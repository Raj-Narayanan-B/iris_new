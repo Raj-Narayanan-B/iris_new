{
 "cells": [
  {
   "cell_type": "code",
   "execution_count": 3,
   "id": "e09c7f39-3511-4060-afe1-c9a6f6d40619",
   "metadata": {
    "tags": []
   },
   "outputs": [
    {
     "data": {
      "text/plain": [
       "'data\\\\raw'"
      ]
     },
     "execution_count": 3,
     "metadata": {},
     "output_type": "execute_result"
    }
   ],
   "source": [
    "import os\n",
    "\n",
    "os.path.join(\"data\",\"raw\")"
   ]
  },
  {
   "cell_type": "code",
   "execution_count": null,
   "id": "4f40678e-9f59-4191-8c7f-973402563869",
   "metadata": {},
   "outputs": [],
   "source": [
    "'data/raw'"
   ]
  }
 ],
 "metadata": {
  "kernelspec": {
   "display_name": "Python 3 (ipykernel)",
   "language": "python",
   "name": "python3"
  },
  "language_info": {
   "codemirror_mode": {
    "name": "ipython",
    "version": 3
   },
   "file_extension": ".py",
   "mimetype": "text/x-python",
   "name": "python",
   "nbconvert_exporter": "python",
   "pygments_lexer": "ipython3",
   "version": "3.11.4"
  }
 },
 "nbformat": 4,
 "nbformat_minor": 5
}
